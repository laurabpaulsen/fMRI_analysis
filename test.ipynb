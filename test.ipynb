{
 "cells": [
  {
   "cell_type": "code",
   "execution_count": 15,
   "metadata": {},
   "outputs": [],
   "source": [
    "import os\n",
    "import matplotlib.pyplot as plt\n",
    "from nilearn import image as nimg\n",
    "from nilearn import plotting as nplot\n",
    "from bids import BIDSLayout\n",
    "from pathlib import Path\n",
    "import numpy as np\n",
    "import pandas as pd\n",
    "from nilearn import masking\n",
    "import nibabel as nib\n",
    "from nilearn.glm.first_level import FirstLevelModel\n",
    "\n",
    "#for inline visualization in jupyter notebook\n",
    "%matplotlib inline \n"
   ]
  },
  {
   "cell_type": "code",
   "execution_count": 13,
   "metadata": {},
   "outputs": [],
   "source": [
    "def load_data_subject(subject, bids_dir, runs = [1], space = \"MNI152NLin2009cAsym\"):\n",
    "    \"\"\"\n",
    "\n",
    "    Parameters\n",
    "    ----------\n",
    "    subject : str\n",
    "        Subject identifier e.g. \"0102\".\n",
    "\n",
    "    bids_dir : Path\n",
    "        Path to the root of the bids directory.\n",
    "\n",
    "    runs : list of int\n",
    "        List of runs to load.\n",
    "\n",
    "    space : str\n",
    "        Name of the space of the data to load.\n",
    "    \n",
    "\n",
    "    \"\"\"\n",
    "    \n",
    "    bids_func_dir  = bids_dir / f\"sub-{subject}\" / \"func\"\n",
    "    fprep_func_dir  = bids_dir / \"derivatives\" / f\"sub-{subject}\" / \"func\"\n",
    "    \n",
    "\n",
    "    # paths to functional preprocessed data for all runs\n",
    "    fprep_func_paths = [fprep_func_dir / f\"sub-{subject}_task-boldinnerspeech_run-{run}_echo-1_space-{space}_desc-preproc_bold.nii.gz\" for run in runs]\n",
    "    \n",
    "    # paths to raw functional data for all runs\n",
    "    raw_func_paths = [bids_func_dir / f\"sub-{subject}_task-boldinnerspeech_run-{run}_echo-1_space-{space}_desc-preproc_bold.nii.gz\" for run in runs]\n",
    "    \n",
    "    events, confounds, masks = [], [], [] \n",
    "    \n",
    "    for f_prep_path, f_raw_path in zip(fprep_func_paths, raw_func_paths):\n",
    "        # get the corresponding events\n",
    "        event_path = str(f_raw_path).replace(f'_echo-1_space-{space}_desc-preproc_bold.nii.gz', '_events.tsv')\n",
    "        event_df = pd.read_csv(event_path, sep='\\t')\n",
    "\n",
    "        # get the data corresponding to the events and only keep the needed columns\n",
    "        event_df = event_df.loc[:, [\"onset\", \"duration\", \"trial_type\"]]\n",
    "\n",
    "        # only keep trial types \"IMG_POS\" and \"IMG_NEG\"\n",
    "        event_df = event_df[event_df['trial_type'].isin(['IMG_PO', 'IMG_NO', 'IMG_PS', 'IMG_NS'])]\n",
    "        events.append(event_df)\n",
    "\n",
    "\n",
    "        # get the corresponding confounds\n",
    "        confounds_path = str(f_prep_path).replace(f'_echo-1_space-{space}_desc-preproc_bold.nii.gz', '_desc-confounds_timeseries.tsv')\n",
    "        confounds_df = pd.read_csv(confounds_path, sep='\\t').loc[:, ['trans_x', 'trans_y', 'trans_z', 'rot_x', 'rot_y', 'rot_z']]\n",
    "        confounds.append(confounds_df)\n",
    "\n",
    "        # get the corresponding masks\n",
    "        mask_path = str(f_prep_path).replace(f'_echo-1_space-{space}_desc-preproc_bold.nii.gz', f'_space-{space}_desc-brain_mask.nii.gz')\n",
    "        mask = nib.load(mask_path)\n",
    "\n",
    "        masks.append(mask)\n",
    "\n",
    "\n",
    "    # merge the masks\n",
    "    mask_img = masking.intersect_masks(masks, threshold=0.8)\n",
    "    \n",
    "    # fit the first level model\n",
    "    first_level_model = FirstLevelModel(t_r=2.0, mask_img=mask_img, verbose=1)\n",
    "\n",
    "    first_level_model.fit(fprep_func_paths, events, confounds)\n",
    "\n",
    "    # print the design matrix\n",
    "    print(first_level_model.design_matrices_[0])\n",
    "\n",
    "    print(\"design matrix shape: \", first_level_model.design_matrices_[0].shape)\n",
    "\n"
   ]
  },
  {
   "cell_type": "code",
   "execution_count": 16,
   "metadata": {},
   "outputs": [
    {
     "name": "stderr",
     "output_type": "stream",
     "text": [
      "Computing run 1 out of 1 runs (go take a coffee, a big one)\n",
      "/work/LauraBockPaulsen#1941/fMRI_analysis/env/lib/python3.10/site-packages/nilearn/glm/first_level/first_level.py:76: UserWarning: Mean values of 0 observed.The data have probably been centered.Scaling might not work as expected\n",
      "  warn(\n"
     ]
    },
    {
     "name": "stdout",
     "output_type": "stream",
     "text": [
      "        IMG_NS  IMG_PS   trans_x   trans_y   trans_z     rot_x     rot_y  \\\n",
      "0.0    0.00000     0.0  0.073429  0.039042  0.342614 -0.000362 -0.000157   \n",
      "2.0    0.00000     0.0  0.080182  0.039424  0.284250  0.000697 -0.000223   \n",
      "4.0    0.00000     0.0  0.080206 -0.012710  0.245726  0.000854 -0.000191   \n",
      "6.0    0.00000     0.0  0.069729  0.006396  0.216055  0.000765  0.000028   \n",
      "8.0    0.00004     0.0  0.060102  0.052535  0.197757  0.001091  0.000287   \n",
      "...        ...     ...       ...       ...       ...       ...       ...   \n",
      "970.0  0.00000     0.0 -0.003148 -0.155424  0.307309 -0.015174 -0.000876   \n",
      "972.0  0.00000     0.0 -0.003190 -0.130248  0.319032 -0.015004 -0.000766   \n",
      "974.0  0.00000     0.0 -0.003198 -0.103941  0.324269 -0.015556 -0.000591   \n",
      "976.0  0.00000     0.0 -0.003180 -0.077372  0.351907 -0.016166 -0.000774   \n",
      "978.0  0.00000     0.0  0.001036 -0.125688  0.295407 -0.015054 -0.000572   \n",
      "\n",
      "          rot_z   drift_1   drift_2  ...  drift_11  drift_12  drift_13  \\\n",
      "0.0    0.000561  0.063887  0.063886  ...  0.063848  0.063840  0.063832   \n",
      "2.0    0.000668  0.063885  0.063876  ...  0.063531  0.063463  0.063389   \n",
      "4.0    0.000678  0.063879  0.063855  ...  0.062897  0.062710  0.062506   \n",
      "6.0    0.000625  0.063872  0.063823  ...  0.061951  0.061585  0.061188   \n",
      "8.0    0.000625  0.063861  0.063781  ...  0.060697  0.060097  0.059446   \n",
      "...         ...       ...       ...  ...       ...       ...       ...   \n",
      "970.0 -0.004069 -0.063861  0.063781  ... -0.060697  0.060097 -0.059446   \n",
      "972.0 -0.003984 -0.063872  0.063823  ... -0.061951  0.061585 -0.061188   \n",
      "974.0 -0.004154 -0.063879  0.063855  ... -0.062897  0.062710 -0.062506   \n",
      "976.0 -0.004102 -0.063885  0.063876  ... -0.063531  0.063463 -0.063389   \n",
      "978.0 -0.004025 -0.063887  0.063886  ... -0.063848  0.063840 -0.063832   \n",
      "\n",
      "       drift_14  drift_15  drift_16  drift_17  drift_18  drift_19  constant  \n",
      "0.0    0.063823  0.063814  0.063804  0.063793  0.063781  0.063769       1.0  \n",
      "2.0    0.063309  0.063224  0.063133  0.063036  0.062933  0.062824       1.0  \n",
      "4.0    0.062286  0.062050  0.061798  0.061531  0.061247  0.060948       1.0  \n",
      "6.0    0.060761  0.060302  0.059814  0.059295  0.058746  0.058168       1.0  \n",
      "8.0    0.058746  0.057998  0.057201  0.056356  0.055464  0.054527       1.0  \n",
      "...         ...       ...       ...       ...       ...       ...       ...  \n",
      "970.0  0.058746 -0.057998  0.057201 -0.056356  0.055464 -0.054527       1.0  \n",
      "972.0  0.060761 -0.060302  0.059814 -0.059295  0.058746 -0.058168       1.0  \n",
      "974.0  0.062286 -0.062050  0.061798 -0.061531  0.061247 -0.060948       1.0  \n",
      "976.0  0.063309 -0.063224  0.063133 -0.063036  0.062933 -0.062824       1.0  \n",
      "978.0  0.063823 -0.063814  0.063804 -0.063793  0.063781 -0.063769       1.0  \n",
      "\n",
      "[490 rows x 28 columns]\n",
      "design matrix shape:  (490, 28)\n"
     ]
    },
    {
     "name": "stderr",
     "output_type": "stream",
     "text": [
      "\n",
      "Computation of 1 runs done in 23.199213981628418 seconds.\n",
      "\n"
     ]
    },
    {
     "ename": "TypeError",
     "evalue": "cannot unpack non-iterable NoneType object",
     "output_type": "error",
     "traceback": [
      "\u001b[0;31m---------------------------------------------------------------------------\u001b[0m",
      "\u001b[0;31mTypeError\u001b[0m                                 Traceback (most recent call last)",
      "Cell \u001b[0;32mIn[16], line 4\u001b[0m\n\u001b[1;32m      1\u001b[0m bids_dir \u001b[39m=\u001b[39m Path(\u001b[39m\"\u001b[39m\u001b[39m/work/816119/InSpePosNegData/BIDS_2023E\u001b[39m\u001b[39m\"\u001b[39m)\n\u001b[1;32m      3\u001b[0m \u001b[39m# load data for subject 0102\u001b[39;00m\n\u001b[0;32m----> 4\u001b[0m fprep_func_paths, events, confounds, masks \u001b[39m=\u001b[39m load_data_subject(\u001b[39m\"\u001b[39m\u001b[39m0122\u001b[39m\u001b[39m\"\u001b[39m, bids_dir)\n",
      "\u001b[0;31mTypeError\u001b[0m: cannot unpack non-iterable NoneType object"
     ]
    }
   ],
   "source": [
    "bids_dir = Path(\"/work/816119/InSpePosNegData/BIDS_2023E\")\n",
    "\n",
    "# load data for subject 0102\n",
    "fprep_func_paths, events, confounds, masks = load_data_subject(\"0122\", bids_dir)"
   ]
  }
 ],
 "metadata": {
  "kernelspec": {
   "display_name": "env",
   "language": "python",
   "name": "env"
  },
  "language_info": {
   "codemirror_mode": {
    "name": "ipython",
    "version": 3
   },
   "file_extension": ".py",
   "mimetype": "text/x-python",
   "name": "python",
   "nbconvert_exporter": "python",
   "pygments_lexer": "ipython3",
   "version": "3.10.12"
  },
  "orig_nbformat": 4
 },
 "nbformat": 4,
 "nbformat_minor": 2
}
