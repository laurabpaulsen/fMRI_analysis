{
 "cells": [
  {
   "cell_type": "code",
   "execution_count": 2,
   "metadata": {},
   "outputs": [
    {
     "name": "stdout",
     "output_type": "stream",
     "text": [
      "The Python package you are importing, AtlasReader, is licensed under the\n",
      "BSD-3 license; however, the atlases it uses are separately licensed under more\n",
      "restrictive frameworks.\n",
      "By using AtlasReader, you agree to abide by the license terms of the\n",
      "individual atlases. Information on these terms can be found online at:\n",
      "https://github.com/miykael/atlasreader/tree/master/atlasreader/data\n",
      "\n"
     ]
    }
   ],
   "source": [
    "import pickle\n",
    "import numpy as np\n",
    "import pandas as pd\n",
    "from nilearn import plotting\n",
    "from atlasreader import create_output\n",
    "from pathlib import Path\n",
    "\n",
    "import matplotlib \n",
    "import matplotlib.pyplot as plt\n",
    "import matplotlib.image as mpimg\n",
    "from matplotlib import rcParams\n",
    "%matplotlib inline"
   ]
  },
  {
   "cell_type": "code",
   "execution_count": null,
   "metadata": {},
   "outputs": [],
   "source": [
    "bids_dir = Path(\"/work/816119/InSpePosNegData/BIDS_2023E\")\n",
    "path_to_first_level = Path(\"/work/LauraBockPaulsen#1941/fMRI_analysis/flms\")"
   ]
  },
  {
   "cell_type": "code",
   "execution_count": 1,
   "metadata": {},
   "outputs": [
    {
     "ename": "NameError",
     "evalue": "name 'pickle' is not defined",
     "output_type": "error",
     "traceback": [
      "\u001b[0;31m---------------------------------------------------------------------------\u001b[0m",
      "\u001b[0;31mNameError\u001b[0m                                 Traceback (most recent call last)",
      "\u001b[1;32m/Users/laurapaulsen/Documents/Uni/Cognitive Science MSc/Advanced cognitive neuroscience/portfolios/fMRI_analysis/sanity_checks.ipynb Cell 3\u001b[0m line \u001b[0;36m5\n\u001b[1;32m      <a href='vscode-notebook-cell:/Users/laurapaulsen/Documents/Uni/Cognitive%20Science%20MSc/Advanced%20cognitive%20neuroscience/portfolios/fMRI_analysis/sanity_checks.ipynb#W4sZmlsZQ%3D%3D?line=0'>1</a>\u001b[0m subjects \u001b[39m=\u001b[39m [\u001b[39m\"\u001b[39m\u001b[39m0116\u001b[39m\u001b[39m\"\u001b[39m, \u001b[39m\"\u001b[39m\u001b[39m0117\u001b[39m\u001b[39m\"\u001b[39m, \u001b[39m\"\u001b[39m\u001b[39m0118\u001b[39m\u001b[39m\"\u001b[39m, \u001b[39m\"\u001b[39m\u001b[39m0119\u001b[39m\u001b[39m\"\u001b[39m, \u001b[39m\"\u001b[39m\u001b[39m0120\u001b[39m\u001b[39m\"\u001b[39m, \u001b[39m\"\u001b[39m\u001b[39m0121\u001b[39m\u001b[39m\"\u001b[39m, \u001b[39m\"\u001b[39m\u001b[39m0122\u001b[39m\u001b[39m\"\u001b[39m, \u001b[39m\"\u001b[39m\u001b[39m0123\u001b[39m\u001b[39m\"\u001b[39m]\n\u001b[1;32m      <a href='vscode-notebook-cell:/Users/laurapaulsen/Documents/Uni/Cognitive%20Science%20MSc/Advanced%20cognitive%20neuroscience/portfolios/fMRI_analysis/sanity_checks.ipynb#W4sZmlsZQ%3D%3D?line=2'>3</a>\u001b[0m \u001b[39mfor\u001b[39;00m subject \u001b[39min\u001b[39;00m subjects:\n\u001b[1;32m      <a href='vscode-notebook-cell:/Users/laurapaulsen/Documents/Uni/Cognitive%20Science%20MSc/Advanced%20cognitive%20neuroscience/portfolios/fMRI_analysis/sanity_checks.ipynb#W4sZmlsZQ%3D%3D?line=3'>4</a>\u001b[0m     \u001b[39m# get subject flm \u001b[39;00m\n\u001b[0;32m----> <a href='vscode-notebook-cell:/Users/laurapaulsen/Documents/Uni/Cognitive%20Science%20MSc/Advanced%20cognitive%20neuroscience/portfolios/fMRI_analysis/sanity_checks.ipynb#W4sZmlsZQ%3D%3D?line=4'>5</a>\u001b[0m     subject_flm \u001b[39m=\u001b[39m pickle\u001b[39m.\u001b[39mload(\u001b[39mopen\u001b[39m(path_to_first_level \u001b[39m/\u001b[39m \u001b[39mf\u001b[39m\u001b[39m\"\u001b[39m\u001b[39mflm_\u001b[39m\u001b[39m{\u001b[39;00msubject\u001b[39m}\u001b[39;00m\u001b[39m.pkl\u001b[39m\u001b[39m\"\u001b[39m, \u001b[39m\"\u001b[39m\u001b[39mrb\u001b[39m\u001b[39m\"\u001b[39m))\n",
      "\u001b[0;31mNameError\u001b[0m: name 'pickle' is not defined"
     ]
    }
   ],
   "source": [
    "subjects = [\"0116\", \"0117\", \"0118\", \"0119\", \"0120\", \"0121\", \"0122\", \"0123\"]\n",
    "\n",
    "for subject in subjects:\n",
    "    # get subject flm \n",
    "    subject_flm = pickle.load(open(path_to_first_level / f\"flm_{subject}.pkl\", \"rb\"))\n",
    "\n",
    "    # get subject bold for all runs\n",
    "    subject_BOLD = []\n",
    "    for run in [1, 2, 3, 4, 5, 6]:\n",
    "        bold_path = bids_dir / \"derivatives\" / f\"sub-{subject}\" / \"func\" / f\"sub-{subject}_task-boldinnerspeech_run-{run}_echo-1_space-MNI152NLin2009cAsym_desc-preproc_bold.nii.gz\"\n",
    "\n",
    "        subject_BOLD.append(bold_path)\n",
    "    \n",
    "    # plot the first level model\n",
    "    plotting.plot_glass_brain(subject_flm, threshold=0.001, colorbar=True, display_mode='lyrz', plot_abs=False, title=f\"First level model for subject {subject}\")\n"
   ]
  },
  {
   "cell_type": "code",
   "execution_count": null,
   "metadata": {},
   "outputs": [],
   "source": []
  },
  {
   "cell_type": "code",
   "execution_count": null,
   "metadata": {},
   "outputs": [],
   "source": [
    "# get the BOLD data\n",
    "\n"
   ]
  }
 ],
 "metadata": {
  "kernelspec": {
   "display_name": "Python 3",
   "language": "python",
   "name": "python3"
  },
  "language_info": {
   "codemirror_mode": {
    "name": "ipython",
    "version": 3
   },
   "file_extension": ".py",
   "mimetype": "text/x-python",
   "name": "python",
   "nbconvert_exporter": "python",
   "pygments_lexer": "ipython3",
   "version": "3.9.6"
  },
  "orig_nbformat": 4
 },
 "nbformat": 4,
 "nbformat_minor": 2
}
