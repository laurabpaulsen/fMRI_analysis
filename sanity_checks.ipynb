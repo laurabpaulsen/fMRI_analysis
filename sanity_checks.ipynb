{
 "cells": [
  {
   "cell_type": "code",
   "execution_count": 6,
   "metadata": {},
   "outputs": [],
   "source": [
    "import pickle\n",
    "from pathlib import Path\n",
    "\n",
    "%matplotlib inline"
   ]
  },
  {
   "cell_type": "code",
   "execution_count": 7,
   "metadata": {},
   "outputs": [],
   "source": [
    "bids_dir = Path(\"/work/816119/InSpePosNegData/BIDS_2023E\")\n",
    "path_to_first_level = Path(\"/work/LauraBockPaulsen#1941/fMRI_analysis/flms\")"
   ]
  },
  {
   "cell_type": "code",
   "execution_count": 8,
   "metadata": {},
   "outputs": [],
   "source": [
    "subjects = [\"0116\"]#, \"0117\", \"0118\", \"0119\", \"0120\", \"0121\", \"0122\", \"0123\"]\n",
    "\n",
    "for subject in subjects:\n",
    "    # get subject flm \n",
    "    subject_flm = pickle.load(open(path_to_first_level / f\"flm_{subject}.pkl\", \"rb\"))\n",
    "\n",
    "    # get subject bold for all runs\n",
    "    subject_BOLD = []\n",
    "    for run in [1, 2, 3, 4, 5, 6]:\n",
    "        bold_path = bids_dir / \"derivatives\" / f\"sub-{subject}\" / \"func\" / f\"sub-{subject}_task-boldinnerspeech_run-{run}_echo-1_space-MNI152NLin2009cAsym_desc-preproc_bold.nii.gz\"\n",
    "\n",
    "        subject_BOLD.append(bold_path)\n"
   ]
  },
  {
   "cell_type": "markdown",
   "metadata": {},
   "source": [
    "# Parcel to get visual area voxels"
   ]
  },
  {
   "cell_type": "code",
   "execution_count": null,
   "metadata": {},
   "outputs": [],
   "source": [
    "from nilearn import datasets\n",
    "from nilearn import image as nimg\n",
    "from nilearn import plotting as nplot"
   ]
  },
  {
   "cell_type": "code",
   "execution_count": null,
   "metadata": {},
   "outputs": [],
   "source": [
    "# ensure that the atlas is downloaded\n",
    "atlas_path = Path(\"../atlases\")\n",
    "\n",
    "if not atlas_path.exists():\n",
    "    atlas_path.mkdir()\n",
    "\n",
    "atlas_yeo_2011 = datasets.fetch_atlas_yeo_2011(atlas_path)"
   ]
  },
  {
   "cell_type": "code",
   "execution_count": null,
   "metadata": {},
   "outputs": [],
   "source": [
    "# get visual cortex mask\n",
    "visual_mask = nimg.load_img(atlas_yeo_2011[\"thick_7\"])\n",
    "\n",
    "# plot visual cortex mask\n",
    "nplot.plot_roi(visual_mask, title=\"Visual cortex mask\")"
   ]
  }
 ],
 "metadata": {
  "kernelspec": {
   "display_name": "env",
   "language": "python",
   "name": "env"
  },
  "language_info": {
   "codemirror_mode": {
    "name": "ipython",
    "version": 3
   },
   "file_extension": ".py",
   "mimetype": "text/x-python",
   "name": "python",
   "nbconvert_exporter": "python",
   "pygments_lexer": "ipython3",
   "version": "3.10.12"
  },
  "orig_nbformat": 4
 },
 "nbformat": 4,
 "nbformat_minor": 2
}
